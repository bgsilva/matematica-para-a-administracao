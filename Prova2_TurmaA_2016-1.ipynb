{
 "cells": [
  {
   "cell_type": "markdown",
   "metadata": {},
   "source": [
    "## MAC 119 - Segunda Prova\n",
    "### Turma A"
   ]
  },
  {
   "cell_type": "markdown",
   "metadata": {},
   "source": [
    "**Questão 1.** (1.5 ponto) Determine o valor da constante A que torna a função dada $f(x)$ contínua para qualquer valor de x, justificando todos os passos. \n",
    "(0.5 ponto) Esboce o gráfico da função resultante.\n",
    "\n",
    "$$f(x) = \\begin{cases} \\dfrac{x^2 - 9}{x + 3}, & \\mbox{se } x\\mbox{ $< 3$} \\\\ Ax^2 + x - 21, & \\mbox{se } x\\mbox{ $\\geq 3$} \\end{cases}$$"
   ]
  },
  {
   "cell_type": "markdown",
   "metadata": {},
   "source": [
    "### **Solução**\n",
    "\n",
    "Primeiramente, identificando os possíveis pontos de descontinuidade da função:  \n",
    "1. Em $x = -3$ a função será sempre descontínua, pois a função não está definida neste ponto.\n",
    "2. Em $x = 3$, a continuidade dependará de valor de $A$.  \n",
    "\n",
    "Logo, não é possível encontrar um valor de $A$ que torne a função contínua para todo $x$. Porém, podemos determinar o valor de $A$ que torne a função contínua em $x = 3$. Para isso: \n",
    "$$\\lim\\limits_{x\\rightarrow 3} f(x) = f(3)$$\n",
    "  \n",
    "Para que o limite exista, os limites laterais têm que ser iguais: $\\lim\\limits_{x\\rightarrow 3^+} f(x) = \\lim\\limits_{x\\rightarrow 3^-} f(x)$.  \n",
    "$\\lim\\limits_{x\\rightarrow 3^+} f(x) = \\lim\\limits_{x\\rightarrow 3^+} (Ax^2 + x - 21) = 9A - 18$  \n",
    "$\\lim\\limits_{x\\rightarrow 3^-} f(x) = \\lim\\limits_{x\\rightarrow 3^-} \\dfrac{x^2 - 9}{x + 3} = \\lim\\limits_{x\\rightarrow 3^-} \\dfrac{(x - 3)(x + 3)}{x + 3} = \\lim\\limits_{x\\rightarrow 3^-} x - 3 = 0$\n",
    "\n",
    "Logo: \n",
    "\n",
    "$A - 18 = 0 \\rightarrow \\fbox{A = 2}$. \n",
    "\n",
    "Portanto, para $A = 2$, $\\lim\\limits_{x\\rightarrow 3} f(x) = f(3)$."
   ]
  },
  {
   "cell_type": "markdown",
   "metadata": {},
   "source": [
    "**Questão 2.** (3 pontos) Determine a derivada das seguintes funções:\n",
    "\n",
    "(a) $f(x) = (3x^4 + 8)(x^2 - 2)$\n",
    "\n",
    "(b) $h(t) = \\dfrac{2t + 1}{t^2 + 1}$\n",
    "\n",
    "(c) $g(x) = (2x^4 - 3x^2 + 5)^{15}$\n",
    "\n",
    "(d) $f(x) = x^2\\,e^{x}$\n",
    "\n",
    "(e) $y = x^5\\,\\ln{x}$\n",
    "\n",
    "(f) $f(x) = \\ln{\\left(\\dfrac{5}{x^2 + 1}\\right)}$"
   ]
  },
  {
   "cell_type": "markdown",
   "metadata": {},
   "source": [
    "### **Solução**\n",
    "\n",
    "**(a)** Utilizando a regra do produto e simplificando:  \n",
    "$f'(x) = (3x^4 + 8)(2x) + (x^2 - 2)(12x^3) = 6x^5 + 16x + 12x^5 - 24x^3$  \n",
    "$f'(x) = 18x^5 - 24x^3 + 16x = 2x\\,(9x^4 - 12x^2 + 8)$  \n",
    "$\\fbox{$f'(x) = 2x\\,(9x^4 - 12x^2 + 8)$}$\n",
    "\n",
    "**(b)** Utilizando a regra do quociente:  \n",
    "$h'(t) = \\dfrac{(t^2 + 1)(2) - (2t + 1)(2t)}{(t^2 + 1)^2}$\n",
    "\n",
    "**(c)** Utilizando a regra da cadeia:\n",
    "\n",
    "$g'(x) = 15\\,(2x^4 - 3x^2 + 5)^{14}(8x^3 - 6x) = 30x\\,(2x^4 - 3x^2 + 5)^{14}(4x^2 - 3)$  \n",
    "$\\fbox{$g'(x) = 30x\\,(4x^2 - 3)\\,(2x^4 - 3x^2 + 5)^{14}$}$\n",
    "\n",
    "**(d)** Utilizando a regra do produto:  \n",
    "$f'(x) = x^2\\,e^{x} + e^{x}\\,2x = x\\,e^{x}(x + 2)$  \n",
    "$\\fbox{$f'(x) = x\\,e^{x}(x + 2)$}$\n",
    "\n",
    "**(e)** Utilizando a regra do produto:  \n",
    "$y' = x^5\\,\\dfrac{1}{x} + \\ln{x}\\,5x^4 = x^4 + 5x^4\\,\\ln{x}$  \n",
    "$\\fbox{$y' = x^4(1 + 5\\ln{x})$}$"
   ]
  },
  {
   "cell_type": "markdown",
   "metadata": {},
   "source": [
    "**Questão 3.** O gerente de uma fábrica de eletrodomésticos observa que o número de cafeteiras vendidas por mês por $p$ reais cada uma pode ser modelado pela função:  \n",
    "$$N(p) = \\dfrac{8000}{p}$$  \n",
    "O gerente estima que daqui a $t$ meses o preço de uma cafeteira será $p(t) = 0.06t^{3/2} + 22.5$ reais.\n",
    "\n",
    "(a) (1.5 ponto) A que taxa a demanda mensal de cafeteiras $N(p)$ estará variando daqui a 25 meses?  \n",
    "(b) (0.5 ponto) Interprete o resultado."
   ]
  },
  {
   "cell_type": "markdown",
   "metadata": {},
   "source": [
    "### **Solução**\n",
    "\n",
    "**(a)**\n",
    "\n",
    "**(b)**"
   ]
  },
  {
   "cell_type": "markdown",
   "metadata": {},
   "source": [
    "**Questão 4.** (3 pontos) Use derivação implícita para determinar a inclinação da reta tangente à curva dada no ponto especificado:\n",
    "\n",
    "(a) $xy^3 = 4;\\,(-6, -1)$  \n",
    "\n",
    "(b) $1 - 2xy^2 = 3x^3 + 6y;\\,(0, 1/6)$  \n",
    "\n",
    "(c) $3x^2 + 2y^3 = x^2y;\\,(-3, -3)$  \n",
    "\n",
    "(d) $x - y^2 = 3e^{x} + 5y;\\,(0, 1)$  "
   ]
  },
  {
   "cell_type": "markdown",
   "metadata": {},
   "source": [
    "### **Solução**\n",
    "\n",
    "**(a)**\n",
    "\n",
    "**(b)**\n",
    "\n",
    "**(c)**\n",
    "\n",
    "**(d)**"
   ]
  },
  {
   "cell_type": "markdown",
   "metadata": {},
   "source": [
    "### **Solução**\n",
    "\n",
    "O **domínio de uma função** corresponde aos valores da variável independente ($x$) nos quais a função ($f(x)$) é definida.\n",
    "\n",
    "Neste problema, devemos verificar para quais valores da variável independente a função está, ou não, definida. O domínio será dado por $\\mathbb{R}$ excluído os valores da variável independende que tornam a função indefinida.\n",
    "\n",
    "**(a)** O numerador é uma função potência que é definida para todo $x$. Porém, o denominador será nulo quando a função $x^2 + 5x + 1 = 0$. Para encontrar as raízes de $x^2 + 5x + 1$, utilizamos a fórmula de Bhaskara:  \n",
    "x = $\\dfrac{-b \\pm \\sqrt{\\Delta}}{2a}$, onde $\\Delta = b^2 - 4\\cdot a\\cdot c$  \n",
    "\n",
    "Onde encontramos que $x = -3$ ou $x = -2$. Portanto, o domínio da função será:  \n",
    "\n",
    "D = $\\{x \\in \\mathbb{R} : x \\neq -3$ e $x \\neq -2\\}$\n",
    "\n",
    "**(b)** O denominador é sempre positivo, para qualquer valor de $x$. Porém, o numerador é uma função raiz, que é apenas definida para valores de seu argumento maiores que zero. Logo, temos que:\n",
    "\n",
    "$x - 2 \\geq 0$. Portanto: $x \\geq 2$. O domínio da função poderá ser escrito como: \n",
    "\n",
    "D = $\\{x \\in \\mathbb{R} : x \\geq 2\\}$"
   ]
  },
  {
   "cell_type": "markdown",
   "metadata": {},
   "source": [
    "### **Solução**\n",
    "\n",
    "**(a)** $f(x) = 2x^2 - 5x - 3$  \n",
    "\n",
    "A parábola tem concavidade para cima, pois $a > 0$ (lembrando a forma geral $ax^2 + bx + c$)\n",
    "\n",
    "O intercepto com o eixo y, ou seja: $f(0)$:  \n",
    "$f(0) = - 3$  \n",
    "$\\fbox{$(0, -3)$}$\n",
    "\n",
    "Os interceptos com o eixo x, ou seja: $f(x) = 0$:  \n",
    "As raízes são:  \n",
    "$x = -\\dfrac{1}{2}$ e $x = 3$  \n",
    "$\\fbox{$(-\\dfrac{1}{2}, 0)$, (3, 0)}$  \n",
    "\n",
    "Juntando essas informações, o gráfico fica, portanto:\n",
    "\n",
    "![Image of Yaktocat](https://drive.google.com/uc?id=0B2hurzTPk6MGblI2Z3hFY3JjWm8)\n",
    "\n",
    "**(b)** $f(x) = \\begin{cases} 1 - x^2, & \\mbox{se } x\\mbox{ $\\leq 0$} \\\\ 3x - 1, & \\mbox{se } x\\mbox{ > 0} \\end{cases}$\n",
    "\n",
    "A função é definida para duas regiões:  \n",
    "I. $(-\\infty, 0]$  \n",
    "II. $(0, \\infty)$\n",
    "\n",
    "I. Para a primeira região, $(-\\infty, 0]$, a função assume a forma $f(x) = 1 - x^2$  \n",
    "O intercepto com o eixo y, ou seja: $f(0)$ é:  \n",
    "$f(0) = 1$  \n",
    "$\\fbox{$(0, 1)$}$\n",
    "\n",
    "Com o eixo x, ou seja: $f(x) = 0$:   \n",
    "As raízes são:  \n",
    "$x = -1$ e $x = 1$. Como a raiz $x = 1$ está fora do intervalo de definição, temos apenas o intercepto:\n",
    "$\\fbox{$(-1, 0)$}$  \n",
    "\n",
    "II. Para a segunda região, $(0, \\infty)$, a função assume a forma $f(x) = 3x - 1$  \n",
    "O intercepto com o eixo y, ou seja: $f(0)$ é:  \n",
    "$f(0) = -1$. Notando que este será um ponto aberto, pois a função está definida apenas para valores maiores que zero.  \n",
    "$\\fbox{$(0, -1)$}$\n",
    "\n",
    "Com o eixo x, ou seja: $f(x) = 0$:   \n",
    "A raiz é:  \n",
    "$x = \\dfrac{1}{3}$  \n",
    "$\\fbox{$(\\dfrac{1}{3}, 0)$}$  \n",
    "\n",
    "Juntando essas informações, o gráfico fica, portanto:\n",
    "\n",
    "![Image of Yaktocat](https://drive.google.com/uc?id=0B2hurzTPk6MGSktPWWVFN0s2dTA)"
   ]
  },
  {
   "cell_type": "markdown",
   "metadata": {},
   "source": [
    "### **Solução**\n",
    "\n",
    "**(a)** $5^x = e^4$  \n",
    "\n",
    "Aplicando o logaritmo natural em ambos os lados da equação e usando as propriedades dos logarítmicos:  \n",
    "\n",
    "$\\ln 5^x = \\ln e^4$  \n",
    "$x\\ln 5 = 4$  \n",
    "$\\fbox{$x = \\dfrac{4}{\\ln 5}$}$\n",
    "\n",
    "**(b)** $\\log_3 (2x + 1) = 2$  \n",
    "\n",
    "Usando a definição de logaritmo, $\\log_a x = y$ é equivalente a $a^y = x$, logo:  \n",
    "\n",
    "$\\log_3 (2x + 1) = 2$ equivale a: $3^2 = 2x + 1$  \n",
    "\n",
    "$2x + 1 = 9$  \n",
    "$2x = 10$  \n",
    "$\\fbox{$x = 5$}$\n",
    "\n",
    "**(c)** $\\ln(x - 3) = \\ln20 - \\ln5$  \n",
    "\n",
    "Primeiramente, simplificamos os termos à direita da igualdade, usando as propriedades dos logarítmicos:  \n",
    "$\\ln20 - \\ln5 = \\ln\\left(\\dfrac{20}{5}\\right) = \\ln 4$  \n",
    "Para resolver, usamos outra propriedade logarítmica: se $\\ln x$ = $\\ln y$, então x = y, ou seja:  \n",
    "\n",
    "$\\ln(x - 3) = \\ln 4$  \n",
    "$x - 3 = 4$  \n",
    "$\\fbox{x = 7}$\n",
    "\n",
    "**(d)** $e^{2x} - 7e^x + 12 = 0$  \n",
    "\n",
    "Fazendo a substituição: $y = e^x$, temos:  \n",
    "\n",
    "$y^2 - 7y + 12 = 0$  \n",
    "\n",
    "As raízes desta equação são: $y = 3$ e $y = 4$. 'Desfazendo' a substituição:  \n",
    "\n",
    "$e^x = 3 \\rightarrow x = \\ln 3$  \n",
    "$e^x = 4 \\rightarrow x = \\ln 4 = \\ln 2^2 = 2\\ln 2$  \n",
    "\n",
    "$\\fbox{$x = \\ln 3$ e $x = 2\\ln 2$}$\n"
   ]
  },
  {
   "cell_type": "markdown",
   "metadata": {},
   "source": [
    "**Questão 5.** (2 pontos) Determine os limites indicados. Se o valor for infinito, indique se é $+\\infty$ ou $-\\infty$.\n",
    "\n",
    "(a) $\\lim\\limits_{x\\rightarrow 3} \\dfrac{3x^2 - 8}{x - 2}$  \n",
    "(b) $\\lim\\limits_{x\\rightarrow + \\infty} \\dfrac{7x^2 + 3}{2x^2 + 5x + 6}$  \n",
    "(c) $\\lim\\limits_{x\\rightarrow 0} (6 + \\dfrac{1}{x^2})$  \n",
    "(d) $\\lim\\limits_{x\\rightarrow 2} \\dfrac{x - 2}{x(x^2 - 4)}$  "
   ]
  },
  {
   "cell_type": "markdown",
   "metadata": {
    "collapsed": true
   },
   "source": [
    "![Média turma A](https://drive.google.com/uc?id=0B2hurzTPk6MGaElsMmJwalpFdms)\n",
    "A média da turma foi 5.41, a mediana 5.70 e o desvio padrão 2.56."
   ]
  },
  {
   "cell_type": "code",
   "execution_count": null,
   "metadata": {
    "collapsed": true
   },
   "outputs": [],
   "source": []
  }
 ],
 "metadata": {
  "kernelspec": {
   "display_name": "Python 3",
   "language": "python",
   "name": "python3"
  },
  "language_info": {
   "codemirror_mode": {
    "name": "ipython",
    "version": 3
   },
   "file_extension": ".py",
   "mimetype": "text/x-python",
   "name": "python",
   "nbconvert_exporter": "python",
   "pygments_lexer": "ipython3",
   "version": "3.5.1"
  }
 },
 "nbformat": 4,
 "nbformat_minor": 0
}
