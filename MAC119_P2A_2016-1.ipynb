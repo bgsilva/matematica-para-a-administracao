{
 "cells": [
  {
   "cell_type": "markdown",
   "metadata": {},
   "source": [
    "# MAC 119 - Segunda Prova\n",
    "### Turma A"
   ]
  },
  {
   "cell_type": "markdown",
   "metadata": {},
   "source": [
    "**Questão 1.** (1.5 ponto) Determine o valor da constante A que torna a função dada $f(x)$ contínua para qualquer valor de x, justificando todos os passos. \n",
    "(0.5 ponto) Esboce o gráfico da função resultante.\n",
    "\n",
    "$$f(x) = \\begin{cases} \\dfrac{x^2 - 9}{x + 3}, & \\mbox{se } x\\mbox{ $< 3$} \\\\ Ax^2 + x - 21, & \\mbox{se } x\\mbox{ $\\geq 3$} \\end{cases}$$"
   ]
  },
  {
   "cell_type": "markdown",
   "metadata": {},
   "source": [
    "### **Solução**\n",
    "\n",
    "Primeiramente, identificando os possíveis pontos de descontinuidade da função:  \n",
    "1. Em $x = -3$ a função será sempre descontínua, pois a função não está definida neste ponto.\n",
    "2. Em $x = 3$, a continuidade dependará de valor de $A$.  \n",
    "\n",
    "Logo, não é possível encontrar um valor de $A$ que torne a função contínua para todo $x$. Porém, podemos determinar o valor de $A$ que torne a função contínua em $x = 3$. Para isso: \n",
    "$$\\lim\\limits_{x\\rightarrow 3} f(x) = f(3)$$\n",
    "  \n",
    "Para que o limite exista, os limites laterais têm que ser iguais: $\\lim\\limits_{x\\rightarrow 3^+} f(x) = \\lim\\limits_{x\\rightarrow 3^-} f(x)$.  \n",
    "$\\lim\\limits_{x\\rightarrow 3^+} f(x) = \\lim\\limits_{x\\rightarrow 3^+} (Ax^2 + x - 21) = 9A - 18$  \n",
    "$\\lim\\limits_{x\\rightarrow 3^-} f(x) = \\lim\\limits_{x\\rightarrow 3^-} \\dfrac{x^2 - 9}{x + 3} = \\lim\\limits_{x\\rightarrow 3^-} \\dfrac{(x - 3)(x + 3)}{x + 3} = \\lim\\limits_{x\\rightarrow 3^-} x - 3 = 0$\n",
    "\n",
    "Logo: \n",
    "\n",
    "$A - 18 = 0 \\rightarrow \\fbox{A = 2}$. \n",
    "\n",
    "Portanto, para $A = 2$, $\\lim\\limits_{x\\rightarrow 3} f(x) = f(3)$.\n",
    "\n",
    "O gráfico da função fica: \n",
    "\n",
    "![MAC119_P2A_1b](https://drive.google.com/uc?id=0B2hurzTPk6MGQTdiN0lBWm1zTGs)"
   ]
  },
  {
   "cell_type": "markdown",
   "metadata": {},
   "source": [
    "**Questão 2.** (3 pontos) Determine a derivada das seguintes funções:\n",
    "\n",
    "(a) $f(x) = (3x^4 + 8)(x^2 - 2)$\n",
    "\n",
    "(b) $h(t) = \\dfrac{2t + 1}{t^2 + 1}$\n",
    "\n",
    "(c) $g(x) = (2x^4 - 3x^2 + 5)^{15}$\n",
    "\n",
    "(d) $f(x) = x^2\\,e^{x}$\n",
    "\n",
    "(e) $y = x^5\\,\\ln{x}$\n",
    "\n",
    "(f) $f(x) = \\ln{\\left(\\dfrac{5}{x^2 + 1}\\right)}$"
   ]
  },
  {
   "cell_type": "markdown",
   "metadata": {},
   "source": [
    "### **Solução**\n",
    "\n",
    "**(a)** Utilizando a regra do produto e simplificando:  \n",
    "$f'(x) = (3x^4 + 8)(2x) + (x^2 - 2)(12x^3) = 6x^5 + 16x + 12x^5 - 24x^3$  \n",
    "$f'(x) = 18x^5 - 24x^3 + 16x = 2x\\,(9x^4 - 12x^2 + 8)$  \n",
    "$\\fbox{$f'(x) = 2x\\,(9x^4 - 12x^2 + 8)$}$\n",
    "\n",
    "**(b)** Utilizando a regra do quociente:  \n",
    "$h'(t) = \\dfrac{(t^2 + 1)(2) - (2t + 1)(2t)}{(t^2 + 1)^2}$  \n",
    "$h'(t) = \\dfrac{2t^2 + 2 - 4t^2 - 2t}{(t^2 + 1)^2}$  \n",
    "$\\fbox{$h'(t) = \\dfrac{-2t^2 - 2t + 2}{(t^2 + 1)^2}$}$\n",
    "\n",
    "**(c)** Utilizando a regra da cadeia:\n",
    "\n",
    "$g'(x) = 15\\,(2x^4 - 3x^2 + 5)^{14}(8x^3 - 6x) = 30x\\,(2x^4 - 3x^2 + 5)^{14}(4x^2 - 3)$  \n",
    "$\\fbox{$g'(x) = 30x\\,(4x^2 - 3)\\,(2x^4 - 3x^2 + 5)^{14}$}$\n",
    "\n",
    "**(d)** Utilizando a regra do produto:  \n",
    "$f'(x) = x^2\\,e^{x} + e^{x}\\,2x = x\\,e^{x}(x + 2)$  \n",
    "$\\fbox{$f'(x) = x\\,e^{x}(x + 2)$}$\n",
    "\n",
    "**(e)** Utilizando a regra do produto:  \n",
    "$y' = x^5\\,\\dfrac{1}{x} + \\ln{x}\\,5x^4 = x^4 + 5x^4\\,\\ln{x}$  \n",
    "$\\fbox{$y' = x^4(1 + 5\\ln{x})$}$\n",
    "\n",
    "**(f)** Utilizando a regra da cadeia:\n",
    "\n",
    "$f'(x) = \\dfrac{1}{\\dfrac{5}{x^2 + 1}} \\cdot \\left(\\dfrac{5}{x^2 + 1}\\right)' = \\dfrac{x^2 + 1}{5} \\cdot \\dfrac{-5\\,(2x)}{(x^2 + 1)^2}$  \n",
    "\n",
    "$\\fbox{$f'(x) = -\\dfrac{2x}{x^2 + 1}$}$"
   ]
  },
  {
   "cell_type": "markdown",
   "metadata": {},
   "source": [
    "**Questão 3.** O gerente de uma fábrica de eletrodomésticos observa que o número de cafeteiras vendidas por mês por $p$ reais cada uma pode ser modelado pela função:  \n",
    "$$N(p) = \\dfrac{8000}{p}$$  \n",
    "O gerente estima que daqui a $t$ meses o preço de uma cafeteira será $p(t) = 0.06t^{3/2} + 22.5$ reais.\n",
    "\n",
    "(a) (1.5 ponto) A que taxa a demanda mensal de cafeteiras $N(p)$ estará variando daqui a 25 meses?  \n",
    "(b) (0.5 ponto) Interprete o resultado."
   ]
  },
  {
   "cell_type": "markdown",
   "metadata": {},
   "source": [
    "### **Solução**\n",
    "\n",
    "**(a)**  A taxa é dada pela regra da cadeia:\n",
    "\n",
    "$\\dfrac{dN}{dt} = \\dfrac{dN}{dp} \\cdot \\dfrac{dp}{dt}$\n",
    "\n",
    "As derivadas dos termos à direita da igualdade anterior são:  \n",
    "$\\dfrac{dN}{dp} = -\\dfrac{8000}{p^2}$ e $\\dfrac{dp}{dt} = 0.09\\,t^{1/2}$  \n",
    "\n",
    "Logo:  \n",
    "$\\dfrac{dN}{dt} = -\\dfrac{8000}{p^2}\\,0.09\\,t^{1/2} = -\\dfrac{720\\,t^{1/2}}{p^2}$\n",
    "\n",
    "No enunciado é pedido a taxa para $t = 25$. Para encontramos a população nesse $t$, é só substituir o tempo na expressão de $p(t)$:  \n",
    "$p(25) = 0.06(25^{3/2}) + 22.5 = 30$\n",
    "\n",
    "Logo: \n",
    "\n",
    "$\\dfrac{dN}{dt}\\bigg|\\,^{t = 25}_{p = 30} = -\\dfrac{720\\,\\sqrt{25}}{30^2} = -4$  \n",
    "$\\fbox{$\\dfrac{dN}{dt}\\bigg|\\,^{t = 25}_{p = 30} = -4$ cafeteiras/mês}$\n",
    "\n",
    "**(b)**"
   ]
  },
  {
   "cell_type": "markdown",
   "metadata": {},
   "source": [
    "**Questão 4.** (3 pontos) Use derivação implícita para determinar a inclinação da reta tangente à curva dada no ponto especificado:\n",
    "\n",
    "(a) $xy^3 = 4;\\,(-6, -1)$  \n",
    "\n",
    "(b) $1 - 2xy^2 = 3x^3 + 6y;\\,(0, 1/6)$  \n",
    "\n",
    "(c) $3x^2 + 2y^3 = x^2y;\\,(-3, -3)$  \n",
    "\n",
    "(d) $x - y^2 = 3e^{x} + 5y;\\,(0, 1)$  "
   ]
  },
  {
   "cell_type": "markdown",
   "metadata": {},
   "source": [
    "### **Solução**\n",
    "\n",
    "**(a)** Derivado implicitamente: \n",
    "\n",
    "$\\dfrac{d}{dx}(xy^3) = \\dfrac{d}{dx}(4)$  \n",
    "$y^3 + 3xy^2\\dfrac{dy}{dx} = 0$  \n",
    "$\\dfrac{dy}{dx} = -\\dfrac{y}{3x}$\n",
    "\n",
    "Em $(-6, -1)$:  \n",
    "$\\dfrac{dy}{dx} = -\\dfrac{-1}{3(-6)} = -\\dfrac{1}{18}$  \n",
    "\n",
    "Portanto:  \n",
    "$\\fbox{$\\dfrac{dy}{dx}\\bigg|_{(-6, -1)} = -\\dfrac{1}{18}$}$\n",
    "\n",
    "**(b)** Derivado implicitamente:  \n",
    "\n",
    "$\\dfrac{dy}{dx} = -\\dfrac{9x^2 + 2y^2}{4xy + 6}$\n",
    "\n",
    "Portanto:  \n",
    "$\\fbox{$\\dfrac{dy}{dx}\\bigg|_{(0, 1/6)} = -\\dfrac{1}{108}$}$\n",
    "\n",
    "**(c)**  Derivado implicitamente:  \n",
    "\n",
    "$\\dfrac{dy}{dx} = -\\dfrac{2xy - 6x}{x^2 - 6y^2}$\n",
    "\n",
    "Portanto:  \n",
    "$\\fbox{$\\dfrac{dy}{dx}\\bigg|_{(-3, -3)} = \\dfrac{4}{5}$}$\n",
    "\n",
    "**(d)**  Derivado implicitamente:  \n",
    "\n",
    "$\\dfrac{dy}{dx} = \\dfrac{1 - 3e^x}{2y + 5}$\n",
    "\n",
    "Portanto:  \n",
    "$\\fbox{$\\dfrac{dy}{dx}\\bigg|_{(0, 1)} = -\\dfrac{2}{7}$}$\n",
    "\n"
   ]
  },
  {
   "cell_type": "markdown",
   "metadata": {
    "collapsed": true
   },
   "source": [
    "![Média turma A](https://drive.google.com/uc?id=0B2hurzTPk6MGaElsMmJwalpFdms)\n",
    "A média da turma foi 5.41, a mediana 5.70 e o desvio padrão 2.56."
   ]
  },
  {
   "cell_type": "code",
   "execution_count": null,
   "metadata": {
    "collapsed": true
   },
   "outputs": [],
   "source": []
  }
 ],
 "metadata": {
  "kernelspec": {
   "display_name": "Python 3",
   "language": "python",
   "name": "python3"
  },
  "language_info": {
   "codemirror_mode": {
    "name": "ipython",
    "version": 3
   },
   "file_extension": ".py",
   "mimetype": "text/x-python",
   "name": "python",
   "nbconvert_exporter": "python",
   "pygments_lexer": "ipython3",
   "version": "3.5.1"
  }
 },
 "nbformat": 4,
 "nbformat_minor": 0
}
