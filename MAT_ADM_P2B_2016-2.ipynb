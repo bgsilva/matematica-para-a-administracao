{
 "cells": [
  {
   "cell_type": "markdown",
   "metadata": {},
   "source": [
    "# Matemática para a Administração - UFRJ (2016/2)\n",
    "# Segunda Prova - Turma B (GABARITO)"
   ]
  },
  {
   "cell_type": "markdown",
   "metadata": {},
   "source": [
    "**Questão 1.** Determine $f'(x)$ das seguintes funções:  \n",
    "\n",
    "(a) $f(x) = 12x^5 - x^3 + 7x^2 + 8x - 3$  \n",
    "\n",
    "(b) $f(x) = (x^2 + 1)(x^4 - 3x - 1)$  \n",
    "\n",
    "(c) $f(x) = \\dfrac{x^3 - 5x^2 + 7}{x^3 - 1}$  \n",
    "\n",
    "(d) $f(x) = (3x^3 + 3x - 11)^{50}$  \n",
    "\n",
    "(e) $f(x) = e^{x^2 + 2}$  \n",
    "\n",
    "(f) $f(x) = \\ln{(x^3 + 2x + 1)}$  \n",
    "\n",
    "> #### **Solução**   \n",
    "\n",
    "> (a) $f'(x) = 60x^4 - 3x^2 + 14x + 8$  \n",
    "\n",
    "> (b) $f'(x) = 6x^5 + 4x^3 - 9x^2 - 2x - 3$  \n",
    "\n",
    "> (c) $f'(x) = \\dfrac{x\\,(5x^3 - 24x + 10)}{(x^3 - 1)^2}$  \n",
    "\n",
    "> (d) $f'(x) = 150\\,(3x^2 + 1)\\,(3x^3 + 3x - 11)^{49}$  \n",
    "\n",
    "> (e) $f'(x) = 2\\,x\\,e^{x^2 + 2}$  \n",
    "\n",
    "> (f) $f'(x) = \\dfrac{3x^2 + 2}{x^3 + 2x + 1}$ "
   ]
  },
  {
   "cell_type": "markdown",
   "metadata": {},
   "source": [
    "**Questão 2.** Determine as equações das retas tangentes às curvas, nos pontos de abscissas dadas:  \n",
    "\n",
    "(a) (1.25) $f(x) = x^3 + 3x + 1;\\,x = 0$  \n",
    "\n",
    "(b) (1.25) $f(x) = e^{\\dfrac{1}{x}};\\,x = 1$  \n",
    "\n",
    "> #### **Solução** \n",
    "\n",
    "> (a) $y = 3x + 1$    \n",
    "\n",
    "> (b) $y = 2e - e\\,x$"
   ]
  },
  {
   "cell_type": "markdown",
   "metadata": {},
   "source": [
    "**Questão 3.** (2 pontos) Numa fábrica, o custo total para a fabricação de $x$ unidades de um certo produto durante um dia é $C(x) = 0.2x^3 - 0.1x^2 + 0.5x + 600$ reais. \n",
    "Após um dia de trabalho, depois de $t$ horas foram produzidas $x(t) = 10\\sqrt{t^2 + 4}$ unidades. \n",
    "Calcule a taxa de variação do custo total em relação ao tempo, 3 horas após iniciada a produção.\n",
    "\n",
    "> #### **Solução**   \n",
    "Substituindo $p = 5$ na expressão dada, obtemos $x = -18$ ou $x = 3$. Como não faz sentido demanda negativa, temos:  \n",
    "$x = 3$, ou seja, para o preço de $R\\$$ 5,00 a demanda do produto é de 300 unidades.  \n",
    "\n",
    "> Derivando a expressão implicitamente em relação ao tempo $t$:  \n",
    "$2x\\dfrac{dx}{dt} + 3x\\dfrac{dp}{dt} + 3p\\dfrac{dx}{dt} + 2p\\dfrac{dp}{dt} = 0$  \n",
    "Agrupando os termos  \n",
    "$(2x + 3p)\\dfrac{dx}{dt} = (- 3x - 2p)\\dfrac{dp}{dt}$.  \n",
    "Finalmente podemos expressar $\\dfrac{dx}{dt}$ (taxa de variação da demanda em relação ao tempo) em termos do preço, da demanda e da taxa de variação do preço em relação ao tempo (dada no enunciado) como  \n",
    "$\\dfrac{dx}{dt} = \\left(\\dfrac{-3x - 2p}{2x + 3p}\\right)\\dfrac{dp}{dt}$, onde sabemos que $p = 5$, $x = 3$ e $\\dfrac{dp}{dt} = -0.30$ (preço diminui à taxa de 30 centavos/mês).  \n",
    "Logo:\n",
    "$\\dfrac{dx}{dt} = \\dfrac{-3(3) - 2(5)}{2(3) + 3(5)}(-0.30)$\n",
    "$\\fbox{$\\dfrac{dx}{dt} \\approx 0,27$}$, ou seja, a demanda estará aumentando à taxa de 27 unidades/mês para as condições dadas."
   ]
  },
  {
   "cell_type": "markdown",
   "metadata": {},
   "source": [
    "**Questão 4** Usando derivação implícita, calcule $y'$:  \n",
    "\n",
    "(a) (1.25) $xy^2 + y^3 = 1$  \n",
    "\n",
    "(b) (1.25) $xy = 3e^{-x} + 5\\ln{y}$  \n",
    "\n",
    "> #### **Solução** \n",
    "\n",
    "> (a) $y' = \\dfrac{-y}{3y + 2x}$  \n",
    "\n",
    "> (b) $y' = \\dfrac{y\\,(3e^{-x} + y)}{5 - xy}$  "
   ]
  },
  {
   "cell_type": "code",
   "execution_count": null,
   "metadata": {
    "collapsed": true
   },
   "outputs": [],
   "source": []
  }
 ],
 "metadata": {
  "anaconda-cloud": {},
  "kernelspec": {
   "display_name": "Python [default]",
   "language": "python",
   "name": "python3"
  },
  "language_info": {
   "codemirror_mode": {
    "name": "ipython",
    "version": 3
   },
   "file_extension": ".py",
   "mimetype": "text/x-python",
   "name": "python",
   "nbconvert_exporter": "python",
   "pygments_lexer": "ipython3",
   "version": "3.5.2"
  }
 },
 "nbformat": 4,
 "nbformat_minor": 0
}
