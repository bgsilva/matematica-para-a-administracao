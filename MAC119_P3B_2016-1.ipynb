{
 "cells": [
  {
   "cell_type": "markdown",
   "metadata": {},
   "source": [
    "# MAC119 / UFRJ - Terceira Prova (13/07/16)\n",
    "### Turma B"
   ]
  },
  {
   "cell_type": "markdown",
   "metadata": {},
   "source": [
    "**Questão 1.** Quando o preço unitário de um produto é $p$ reais, a demanda é de $x$ centenas de unidades, em que\n",
    "\n",
    "$$x^2 + 3px + p^2 = 79$$\n",
    "\n",
    "(a) (1 ponto) Qual o valor de $x$ se o preço unitário é $R\\$$ 5,00?\n",
    "\n",
    "(b) (1.5 ponto) Qual é a taxa de variação da demanda com o tempo se o preço unitário de $R\\$$ 5,00 está diminuindo à taxa de 30 centavos por mês?"
   ]
  },
  {
   "cell_type": "markdown",
   "metadata": {},
   "source": [
    "### **Solução**\n",
    "\n",
    "(a) Substituindo $p = 5$ na expressão dada, obtemos $x = -18$ ou $x = 3$. Como não faz sentido demanda negativa, temos: \n",
    "\n",
    "$\\fbox{x = 3}$, ou seja, para o preço de $R\\$$ 5,00 a demanda do produto é de 300 unidades.\n",
    "\n",
    "(b) Derivando a expressão implicitamente em relação ao tempo $t$:  \n",
    "\n",
    "$2x\\dfrac{dx}{dt} + 3x\\dfrac{dp}{dt} + 3p\\dfrac{dx}{dt} + 2p\\dfrac{dp}{dt} = 0$  \n",
    "\n",
    "$(2x + 3p)\\dfrac{dx}{dt} = (- 3x - 2p)\\dfrac{dp}{dt}$\n",
    "\n",
    "$\\dfrac{dx}{dt} = \\left(\\dfrac{-3x - 2p}{2x + 3p}\\right)\\dfrac{dp}{dt}$, onde sabemos que $p = 5$, $x = 3$ e $\\dfrac{dp}{dt} = -0.30$ (preço diminui à taxa de 30 centavos/mês). Logo:\n",
    "\n",
    "$\\dfrac{dx}{dt} = \\dfrac{-3(3) - 2(5)}{2(3) + 3(5)}(-0.30)$\n",
    "\n",
    "$\\fbox{$\\dfrac{dx}{dt} \\approx 0,27$}$, ou seja, a demanda estará aumentando à taxa de 27 unidades/mês para as condições dadas."
   ]
  },
  {
   "cell_type": "markdown",
   "metadata": {},
   "source": [
    "**Questão 2.** Um fabricante estima que $x$ unidades de determinado produto serão vendidas se o preço unitário for $p(x) = 112 - x\\ln{(\\sqrt{x})}$ centenas de reais.\n",
    "\n",
    "(a) (1 ponto) Determine as funções receita e receita marginal.\n",
    "\n",
    "(b) (1.5 ponto) Estime a receita obtida com a produção da 21ª unidade.\n",
    "Qual é a receita real obtida com a produção da 21ª unidade?\n"
   ]
  },
  {
   "cell_type": "markdown",
   "metadata": {},
   "source": [
    "### **Solução**\n",
    "\n",
    "(a) $\\fbox{Função receita: $R(x) = x\\,p(x) = 112x - x^2\\ln{\\sqrt{x}} = 112x - \\dfrac{x^2}{2}\\ln{x}$}$  \n",
    "$\\fbox{Função receita marginal: $R'(x) = 112 - x\\ln{x} - \\dfrac{x}{2}$}$\n",
    "\n",
    "(b) $\\fbox{Receita estimada: $R'(20) = 42,09$, ou seja, $R\\$$ 4209}$  \n",
    "$\\fbox{Receita real: $R(21) - R(20) = 39,829$, ou seja, $R\\$$ 3982,93}$"
   ]
  },
  {
   "cell_type": "markdown",
   "metadata": {},
   "source": [
    "**Questão 3.** Um estudo demográfico realizado em certa cidade indica que $P(r)$ centenas de pessoas moram a $r$ quilômetros do centro da cidade, em que\n",
    "\n",
    "$$P(r) = \\dfrac{15r + 5}{r^2 + r + 2}$$\n",
    "onde $r \\geq 0$.\n",
    "\n",
    "(a) (0.5 ponto) Qual é a população no centro da cidade?\n",
    "\n",
    "(b) (1.0 ponto) Para que valores de $r$ a função $P(r)$ é crescente? Para que valores é decrescente?\n",
    "\n",
    "(c) (1.0 ponto) A que distância do centro da cidade a população é máxima? Qual é essa população máxima?"
   ]
  },
  {
   "cell_type": "markdown",
   "metadata": {},
   "source": [
    "### **Solução**\n",
    "\n",
    "(a) A população no centro corresponde a $P(0)$:\n",
    "\n",
    "$\\fbox{250 pessoas}$\n",
    "\n",
    "(b) $\\dfrac{dP}{dr} = \\dfrac{-15r^2 - 10r + 25}{(r^2 + r + 2)^2} = \\dfrac{-15(r - 1)(r + 5/3)}{(r^2 + r + 2)^2}$  \n",
    "$\\fbox{A função é crescente para $0 < x < 1$ e decrescente para $x > 1$ (em $x = 1$ temos um máximo local)}$\n",
    "\n",
    "(c) $\\fbox{A população é máxima a 1 km do centro da cidade, correspondendo a 500 pessoas}$"
   ]
  },
  {
   "cell_type": "markdown",
   "metadata": {},
   "source": [
    "**Questão 4.** Considere a função a  $f(x) = x^3 - 3x^4$:\n",
    "\n",
    "(a) (0.5 ponto) Determine o domínio de $f(x)$.\n",
    "\n",
    "(b) (0.5 ponto) Encontre as assíntotas, caso existam.\n",
    "\n",
    "(c) (0.5 ponto) Determine os intervalos onde $f(x)$ é crescente e onde é decrescente e os pontos de máximo e mínimo.\n",
    "\n",
    "(d) (0.5 ponto) Determine os intervalos onde $f(x)$ é côncava para baixo e onde é côncava para cima e os pontos de inflexão.\n",
    "\n",
    "(e) (0.5 ponto) Usando as informações dos itens acima, esboce o gráfico de $f(x)$."
   ]
  },
  {
   "cell_type": "markdown",
   "metadata": {},
   "source": [
    "### **Solução**\n",
    "\n",
    "(a) $\\fbox{Domínio $\\equiv$ $\\{x \\in \\mathbb{R}\\}$}$\n",
    "\n",
    "(b) $\\fbox{Não existem assíntotas}$\n",
    "\n",
    "(c) $f'(x) = 3x^2 - 12x^3 = 3x^2\\,(1 - 4x)$  \n",
    "Números críticos: $x = 0$ e $x = \\dfrac{1}{4}$, correspondendo, respectivamente, aos pontos $(0, 0)$ e $\\left(\\dfrac{1}{4}, \\dfrac{1}{256}\\right)$\n",
    "\n",
    "A função é crescente no intervalo $\\left(-\\infty, \\dfrac{1}{4}\\right)$ e decrescente no intervalo $\\left(\\dfrac{1}{4}, \\infty\\right)$\n",
    "\n",
    "Máximo local: em $x = \\dfrac{1}{4}$\n",
    "\n",
    "Mínimo local: Não possui.\n",
    "\n",
    "(d) $f''(x) = 6x - 36x^2 = 6x\\,(1 - 6x)$  \n",
    "\n",
    "$f''(x) = 0$ para: $x = 0$ e $x = \\dfrac{1}{6}$, correspondendo, respectivamente, aos pontos $(0,0)$ e $\\left(\\dfrac{1}{6}, \\dfrac{1}{432}\\right)$\n",
    "\n",
    "Concavidade para cima: $\\left(0, \\dfrac{1}{6}\\right)$\n",
    "\n",
    "Concavidade para baixo: $\\left(-\\infty, 0\\right)$ e $\\left(\\dfrac{1}{6}, \\infty\\right)$\n",
    "\n",
    "Pontos de inflexão em: $x = 0$ e $x = \\dfrac{1}{6}$\n",
    "\n",
    "(e) Gráfico da função:"
   ]
  },
  {
   "cell_type": "markdown",
   "metadata": {},
   "source": [
    "### FIM"
   ]
  }
 ],
 "metadata": {
  "kernelspec": {
   "display_name": "Python 3",
   "language": "python",
   "name": "python3"
  },
  "language_info": {
   "codemirror_mode": {
    "name": "ipython",
    "version": 3
   },
   "file_extension": ".py",
   "mimetype": "text/x-python",
   "name": "python",
   "nbconvert_exporter": "python",
   "pygments_lexer": "ipython3",
   "version": "3.5.1"
  }
 },
 "nbformat": 4,
 "nbformat_minor": 0
}
