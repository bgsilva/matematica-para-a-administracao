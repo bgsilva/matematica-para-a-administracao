{
 "cells": [
  {
   "cell_type": "markdown",
   "metadata": {},
   "source": [
    "# Matemática para a Administração / UFRJ - Quarta Lista"
   ]
  },
  {
   "cell_type": "markdown",
   "metadata": {},
   "source": [
    "**Questão 1.** Determine dy/dx por derivação implícita:\n",
    "\n",
    "(a) $3x^2 + 2y^3 = 49$\n",
    "\n",
    "(b) $x^2 + 2xy - y^2 + x = 2$\n",
    "\n",
    "(c) $\\dfrac{1}{2}x^2 + 4y = x^3 + 3y^4$\n",
    "\n",
    "(d) $6xy - 2x^2y^3 = 5y$\n",
    "\n",
    "(e) $ye^{3x - x^2} = x + y$\n",
    "\n",
    "(f) $2xy + y^3 = 1$\n",
    "\n",
    "(g) $x^2 + 2xy - y^2 + x = 2$\n",
    "\n",
    "(h) $2x^{2/3} + 3y^{2/3} = 4$"
   ]
  },
  {
   "cell_type": "markdown",
   "metadata": {},
   "source": [
    "### **Solução**\n",
    "\n",
    "(a) Para encontrar o valor de $x$, basta substituir o valor $p = 4$ na expressão dada. Onde encontramos:   \n",
    "$\\fbox{x = 6}$, ou seja, para o preço de $R\\$$ 4,00 o fabricante tem interesse em ofertar 600 unidades.\n",
    "\n",
    "(b) A taxa de variação da oferta com tempo é dada pela derivada $\\dfrac{dx}{dt}$, onde podemos obtê-la por derivação implícita ou através da regra da cadeia. Usando derivação implícita e derivando a expressão em relação ao tempo $t$:\n",
    "\n",
    "$3\\cdot2p\\dfrac{dp}{dt} - 2x\\dfrac{dx}{dt} = 0$, ou seja, $\\dfrac{dx}{dt} = \\dfrac{3p}{x}\\dfrac{dp}{dt}$.\n",
    "\n",
    "No enunciado é dado que a taxa de variação do preço está aumentando à taxa de 87 centavos por mês, ou seja, $\\dfrac{dp}{dt}$ = $R\\$$ 0.87 / mês.\n",
    "\n",
    "$\\fbox{$\\dfrac{dx}{dt}$ = 1,74}$, ou seja, a oferta estará variando à taxa de 174 unidades/mês para as condições dadas."
   ]
  },
  {
   "cell_type": "markdown",
   "metadata": {},
   "source": [
    "**Questão 2.** Se $x^2y + e^y = e$, encontre o valor de $y''$ no ponto onde $x = 1$."
   ]
  },
  {
   "cell_type": "markdown",
   "metadata": {},
   "source": [
    "### **Solução**\n",
    "\n",
    "(a) $\\fbox{Função receita: $R(x) = x\\,p(x) = 112x - x^2\\ln{\\sqrt{x}} = 112x - \\dfrac{x^2}{2}\\ln{x}$}$  \n",
    "$\\fbox{Função receita marginal: $R'(x) = 112 - x\\ln{x} - \\dfrac{x}{2}$}$\n",
    "\n",
    "(b) $\\fbox{Receita estimada: $R'(20) = 42,09$, ou seja, $R\\$$ 4209}$  \n",
    "$\\fbox{Receita real: $R(21) - R(20) = 39,829$, ou seja, $R\\$$ 3982,93}$"
   ]
  },
  {
   "cell_type": "markdown",
   "metadata": {},
   "source": [
    "**Questão 3.** Quando o preço unitário de um produto é $p$ reais, a demanda é de $x$ centenas de unidades, em que $x^2 + 3px + p^2 = 79$. Qual é a taxa de variação da demanda com o tempo se o preço unitário é $\\mathrm{R\\$}$ 5,00 e está diminuindo à taxa de 30 centavos por mês? "
   ]
  },
  {
   "cell_type": "markdown",
   "metadata": {},
   "source": [
    "### **Solução**\n",
    "\n",
    "(a) A população no centro corresponde a $P(0)$:\n",
    "\n",
    "$\\fbox{250 pessoas}$\n",
    "\n",
    "(b) $\\dfrac{dP}{dr} = \\dfrac{-15r^2 - 10r + 25}{(r^2 + r + 2)^2} = \\dfrac{-15(r - 1)(r + 5/3)}{(r^2 + r + 2)^2}$  \n",
    "$\\fbox{A função é crescente para $0 < x < 1$ e decrescente para $x > 1$ (em $x = 1$ temos um máximo local)}$\n",
    "\n",
    "(c) $\\fbox{A população é máxima a 1 km do centro da cidade, correspondendo a 500 pessoas}$"
   ]
  },
  {
   "cell_type": "markdown",
   "metadata": {},
   "source": [
    "### FIM"
   ]
  }
 ],
 "metadata": {
  "anaconda-cloud": {},
  "kernelspec": {
   "display_name": "Python [default]",
   "language": "python",
   "name": "python3"
  },
  "language_info": {
   "codemirror_mode": {
    "name": "ipython",
    "version": 3
   },
   "file_extension": ".py",
   "mimetype": "text/x-python",
   "name": "python",
   "nbconvert_exporter": "python",
   "pygments_lexer": "ipython3",
   "version": "3.5.2"
  }
 },
 "nbformat": 4,
 "nbformat_minor": 0
}
