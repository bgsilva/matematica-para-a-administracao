{
 "cells": [
  {
   "cell_type": "markdown",
   "metadata": {},
   "source": [
    "# Matemática para a Administração - UFRJ - 2016/2\n",
    "# Quarta Lista (GABARITO)"
   ]
  },
  {
   "cell_type": "markdown",
   "metadata": {},
   "source": [
    "**Questão 1.** Determine dy/dx por derivação implícita:\n",
    "\n",
    "(a) $3x^2 + 2y^3 = 49$\n",
    "\n",
    "> #### **Solução**   \n",
    "$\\dfrac{dy}{dx} = -\\dfrac{x}{y^2}$\n",
    "\n",
    "(b) $x^2 + 2xy - y^2 + x = 2$\n",
    "\n",
    "> #### **Solução**   \n",
    "$\\dfrac{dy}{dx} = \\dfrac{2x + 2y + 1}{2y - 2x}$\n",
    "\n",
    "(c) $\\dfrac{1}{2}x^2 + 4y = x^3 + 3y^4$\n",
    "\n",
    "> #### **Solução**   \n",
    "$\\dfrac{dy}{dx} = \\dfrac{x - 3x^2}{12y^3 - 4}$\n",
    "\n",
    "(d) $6xy - 2x^2y^3 = 5y$\n",
    "\n",
    "> #### **Solução**   \n",
    "$\\dfrac{dy}{dx} = \\dfrac{6y - 4xy^3}{6x^2y^2 - 6x + 5}$\n",
    "\n",
    "(e) $ye^{3x - x^2} = x + y$\n",
    "\n",
    "> #### **Solução**   \n",
    "$\\dfrac{dy}{dx} = \\dfrac{e^{x^2} - 3y\\,e^{3x} + 2xy\\,e^{3x}}{e^{3x} - e^{x^2}}$\n",
    "\n",
    "(f) $2xy + y^3 = 1$\n",
    "\n",
    "> #### **Solução**   \n",
    "$\\dfrac{dy}{dx} = -\\dfrac{2y}{2x + 3y^2}$\n",
    "\n",
    "(g) $x^2 + 2xy - y^2 + x = 2$ (repetida)\n",
    "\n",
    "> #### **Solução**   \n",
    "$\\dfrac{dy}{dx} = \\dfrac{2x + 2y + 1}{2y - 2x}$\n",
    "\n",
    "(h) $2x^{2/3} + 3y^{2/3} = 4$\n",
    "\n",
    "> #### **Solução**   \n",
    "$\\dfrac{dy}{dx} = -\\dfrac{2}{3}\\sqrt[3]{\\dfrac{y}{x}}$"
   ]
  },
  {
   "cell_type": "markdown",
   "metadata": {},
   "source": [
    "**Questão 2.** Se $x^2y + e^y = e$, encontre o valor de $y''$ no ponto onde $x = 1$.\n",
    "\n",
    "> #### **Solução**   \n",
    "A primeira derivada $y'$ é dada por $\\dfrac{dy}{dx} = \\dfrac{- 2xy}{x^2 + e^y}$ e a segunda $y''$ por $\\dfrac{d^2y}{dx^2} = \\dfrac{2y(x^2 - e^y)}{(x^2 + e^y)^2}$.   \n",
    "Para $x = 1$, encontramos $y \\approx 0.70$ (achado na solução da equação $y + e^y = e$, que não é de solução trivial).   \n",
    "Substituindo esses valores na expressão da segunda derivada, encontramos:  \n",
    "$y''(x = 1, y = 0.7) \\approx - 0.16$."
   ]
  },
  {
   "cell_type": "markdown",
   "metadata": {},
   "source": [
    "**Questão 3.** Quando o preço unitário de um produto é $p$ reais, a demanda é de $x$ centenas de unidades, em que $x^2 + 3px + p^2 = 79$. Qual é a taxa de variação da demanda com o tempo se o preço unitário é $\\mathrm{R\\$}$ 5,00 e está diminuindo à taxa de 30 centavos por mês? "
   ]
  },
  {
   "cell_type": "markdown",
   "metadata": {},
   "source": [
    "> #### **Solução**   \n",
    "Substituindo $p = 5$ na expressão dada, obtemos $x = -18$ ou $x = 3$. Como não faz sentido demanda negativa, temos:  \n",
    "$x = 3$, ou seja, para o preço de $R\\$$ 5,00 a demanda do produto é de 300 unidades.  \n",
    "\n",
    "> Derivando a expressão implicitamente em relação ao tempo $t$:  \n",
    "$2x\\dfrac{dx}{dt} + 3x\\dfrac{dp}{dt} + 3p\\dfrac{dx}{dt} + 2p\\dfrac{dp}{dt} = 0$  \n",
    "Agrupando os termos  \n",
    "$(2x + 3p)\\dfrac{dx}{dt} = (- 3x - 2p)\\dfrac{dp}{dt}$.  \n",
    "Finalmente podemos expressar $\\dfrac{dx}{dt}$ (taxa de variação da demanda em relação ao tempo) em termos do preço, da demanda e da taxa de variação do preço em relação ao tempo (dada no enunciado) como  \n",
    "$\\dfrac{dx}{dt} = \\left(\\dfrac{-3x - 2p}{2x + 3p}\\right)\\dfrac{dp}{dt}$, onde sabemos que $p = 5$, $x = 3$ e $\\dfrac{dp}{dt} = -0.30$ (preço diminui à taxa de 30 centavos/mês).  \n",
    "Logo:\n",
    "$\\dfrac{dx}{dt} = \\dfrac{-3(3) - 2(5)}{2(3) + 3(5)}(-0.30)$\n",
    "$\\fbox{$\\dfrac{dx}{dt} \\approx 0,27$}$, ou seja, a demanda estará aumentando à taxa de 27 unidades/mês para as condições dadas."
   ]
  }
 ],
 "metadata": {
  "anaconda-cloud": {},
  "kernelspec": {
   "display_name": "Python [default]",
   "language": "python",
   "name": "python3"
  },
  "language_info": {
   "codemirror_mode": {
    "name": "ipython",
    "version": 3
   },
   "file_extension": ".py",
   "mimetype": "text/x-python",
   "name": "python",
   "nbconvert_exporter": "python",
   "pygments_lexer": "ipython3",
   "version": "3.5.2"
  }
 },
 "nbformat": 4,
 "nbformat_minor": 0
}
