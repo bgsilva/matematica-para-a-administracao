{
 "cells": [
  {
   "cell_type": "markdown",
   "metadata": {},
   "source": [
    "# Revisão Cálculo 1"
   ]
  },
  {
   "cell_type": "markdown",
   "metadata": {},
   "source": [
    "## Limites e continuidade"
   ]
  },
  {
   "cell_type": "markdown",
   "metadata": {},
   "source": [
    "### Propriedades"
   ]
  },
  {
   "cell_type": "markdown",
   "metadata": {},
   "source": [
    "### Calculo de limites"
   ]
  },
  {
   "cell_type": "markdown",
   "metadata": {},
   "source": [
    "### Continuidade\n",
    "\n",
    "1. Em um número a: \n",
    "    * $\\lim\\limits_{x\\rightarrow a} f(x) = f(a)$  \n",
    "2. Em um intervalo aberto (a, b): \n",
    "    * Se a função for contínua em todo intervalo aberto  \n",
    "3. Em um intervalo fechado [a, b]: \n",
    "    * Se a função for contínua em todo intervalo aberto e:  \n",
    "    * $\\lim\\limits_{x\\rightarrow a^+} f(x) = f(a)$  \n",
    "    * $\\lim\\limits_{x\\rightarrow b^-} f(x) = f(b)$  \n",
    "    \n",
    "Funções contínuas em seus domínios: \n",
    "* polinônios\n",
    "* funções racionais\n",
    "* funções raízes\n",
    "* funções trigonométricas\n",
    "* funções trigonométricas inversas\n",
    "* funções exponenciais\n",
    "* funções logarítmicas"
   ]
  },
  {
   "cell_type": "markdown",
   "metadata": {},
   "source": [
    "## Derivadas"
   ]
  },
  {
   "cell_type": "markdown",
   "metadata": {},
   "source": [
    "### Funções diferenciáveis (deriváveis)\n",
    "\n",
    "Num intervalo aberto ou num ponto. Se $f$ for diferenciável em $a$, então $f$ é contínua em $a$."
   ]
  },
  {
   "cell_type": "markdown",
   "metadata": {},
   "source": [
    "### Regras de derivação\n",
    "\n",
    "* Regra da constante\n",
    "* Regra da multiplicação da constante\n",
    "* Regra da soma\n",
    "* Regra da diferença\n",
    "* Regra do produto\n",
    "* Regra do quociente\n",
    "* Regra da cadeia\n",
    "* Derivadas especiais\n",
    "\n",
    "http://tutorial.math.lamar.edu/pdf/Calculus_Cheat_Sheet_All.pdf\n",
    "\n",
    "http://tutorial.math.lamar.edu/Classes/CalcI/CalcI.aspx\n",
    "\n",
    "https://www.utdallas.edu/studentsuccess/mathlab/PatricksPDFs/math_reviews_jan132013/review%20of%202417%20for%202419%20solutions.pdf\n",
    "\n",
    "http://www.stat.wisc.edu/~ifischer/calculus.pdf\n",
    "\n",
    "https://www.math.washington.edu/~aloveles/Math324Fall2013/Calc1Review.pdf"
   ]
  },
  {
   "cell_type": "markdown",
   "metadata": {
    "collapsed": true
   },
   "source": [
    "Derivação implícita"
   ]
  },
  {
   "cell_type": "markdown",
   "metadata": {},
   "source": [
    "Derivação logarítimica"
   ]
  },
  {
   "cell_type": "markdown",
   "metadata": {},
   "source": [
    "Análise marginal"
   ]
  },
  {
   "cell_type": "markdown",
   "metadata": {},
   "source": [
    "## Integração"
   ]
  },
  {
   "cell_type": "code",
   "execution_count": null,
   "metadata": {
    "collapsed": true
   },
   "outputs": [],
   "source": []
  }
 ],
 "metadata": {
  "kernelspec": {
   "display_name": "Python 3",
   "language": "python",
   "name": "python3"
  },
  "language_info": {
   "codemirror_mode": {
    "name": "ipython",
    "version": 3
   },
   "file_extension": ".py",
   "mimetype": "text/x-python",
   "name": "python",
   "nbconvert_exporter": "python",
   "pygments_lexer": "ipython3",
   "version": "3.5.1"
  }
 },
 "nbformat": 4,
 "nbformat_minor": 0
}
