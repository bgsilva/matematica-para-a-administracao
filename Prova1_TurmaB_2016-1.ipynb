{
 "cells": [
  {
   "cell_type": "markdown",
   "metadata": {},
   "source": [
    "## Primeira Prova - MAC 119 - Turma B\n",
    "\n",
    "\n",
    "![Média turma B](https://drive.google.com/uc?id=0B2hurzTPk6MGQnlOYlNud3JqTTA)\n",
    "A média da turma foi 5.02, a mediana 5.25 e o desvio padrão 2.12."
   ]
  },
  {
   "cell_type": "markdown",
   "metadata": {},
   "source": [
    "**Questão 1.** (2 pontos) Determine o domínio das funções dadas. Justifique a resposta.\n",
    "\n",
    "(a) $f(x) = \\dfrac{(x + 1)^3}{x^2 + 5x + 6}$  \n",
    "\n",
    "(b) $h(x) = \\dfrac{\\sqrt{x - 2}}{x^2 + 1}$  \n",
    "\n",
    "(c) $f(t) = \\dfrac{t^4}{\\sqrt{16 - t^2}}$  \n",
    "\n",
    "(d) $j(x) = \\sqrt{5x + 6} + \\sqrt{x^2 - 9}$     \n"
   ]
  },
  {
   "cell_type": "markdown",
   "metadata": {},
   "source": [
    "### **Solução**\n",
    "\n",
    "O **domínio de uma função** corresponde aos valores da variável independente ($x$) nos quais a função ($f(x)$) é definida.\n",
    "\n",
    "Neste problema, devemos verificar para quais valores da variável independente a função está, ou não, definida. O domínio será dado por $\\mathbb{R}$ excluído os valores da variável independende que tornam a função indefinida.\n",
    "\n",
    "**(a)** O numerador é uma função potência que é definida para todo $x$. Porém, o denominador será nulo quando a função $x^2 + 5x + 1 = 0$. Para encontrar as raízes de $x^2 + 5x + 1$, utilizamos a fórmula de Bhaskara:  \n",
    "x = $\\dfrac{-b \\pm \\sqrt{\\Delta}}{2a}$, onde $\\Delta = b^2 - 4\\cdot a\\cdot c$  \n",
    "\n",
    "Onde encontramos que $x = -3$ ou $x = -2$. Portanto, o domínio da função será:  \n",
    "\n",
    "D = $\\{x \\in \\mathbb{R} : x \\neq -3$ e $x \\neq -2\\}$\n",
    "\n",
    "**(b)** O denominador é sempre positivo, para qualquer valor de $x$. Porém, o numerador é uma função raiz, que é apenas definida para valores de seu argumento maiores que zero. Logo, temos que:\n",
    "\n",
    "$x - 2 \\geq 0$. Portanto: $x \\geq 2$. O domínio da função poderá ser escrito como: \n",
    "\n",
    "D = $\\{x \\in \\mathbb{R} : x \\geq 2\\}$"
   ]
  },
  {
   "cell_type": "markdown",
   "metadata": {},
   "source": [
    "**Questão 2.** Faça um esboço do gráfico das funções dadas, mostrando as interseções com os eixos $x$ e $y$.\n",
    "\n",
    "(a) $f(x) = 2x^2 - 5x - 3$  \n",
    "\n",
    "(b) $f(x) = \\begin{cases} 1 - x^2, & \\mbox{se } x\\mbox{ $\\leq 0$} \\\\ 3x - 1, & \\mbox{se } x\\mbox{ > 0} \\end{cases}$\n"
   ]
  },
  {
   "cell_type": "markdown",
   "metadata": {},
   "source": [
    "### **Solução**\n",
    "\n",
    "**(a)** $f(x) = 2x^2 - 5x - 3$  \n",
    "\n",
    "A parábola tem concavidade para cima, pois $a > 0$ (lembrando a forma geral $ax^2 + bx + c$)\n",
    "\n",
    "O intercepto com o eixo y, ou seja: $f(0)$:  \n",
    "$f(0) = - 3$  \n",
    "$\\fbox{$(0, -3)$}$\n",
    "\n",
    "Os interceptos com o eixo x, ou seja: $f(x) = 0$:  \n",
    "As raízes são:  \n",
    "$x = -\\dfrac{1}{2}$ e $x = 3$  \n",
    "$\\fbox{$(-\\dfrac{1}{2}, 0)$, (3, 0)}$  \n",
    "\n",
    "Juntando essas informações, o gráfico fica, portanto:\n",
    "\n",
    "![Image of Yaktocat](https://drive.google.com/uc?id=0B2hurzTPk6MGblI2Z3hFY3JjWm8)\n",
    "\n",
    "**(b)** $f(x) = \\begin{cases} 1 - x^2, & \\mbox{se } x\\mbox{ $\\leq 0$} \\\\ 3x - 1, & \\mbox{se } x\\mbox{ > 0} \\end{cases}$\n",
    "\n",
    "A função é definida para duas regiões:  \n",
    "I. $(-\\infty, 0]$  \n",
    "II. $(0, \\infty)$\n",
    "\n",
    "I. Para a primeira região, $(-\\infty, 0]$, a função assume a forma $f(x) = 1 - x^2$  \n",
    "O intercepto com o eixo y, ou seja: $f(0)$ é:  \n",
    "$f(0) = 1$  \n",
    "$\\fbox{$(0, 1)$}$\n",
    "\n",
    "Com o eixo x, ou seja: $f(x) = 0$:   \n",
    "As raízes são:  \n",
    "$x = -1$ e $x = 1$. Como a raiz $x = 1$ está fora do intervalo de definição, temos apenas o intercepto:\n",
    "$\\fbox{$(-1, 0)$}$  \n",
    "\n",
    "II. Para a segunda região, $(0, \\infty)$, a função assume a forma $f(x) = 3x - 1$  \n",
    "O intercepto com o eixo y, ou seja: $f(0)$ é:  \n",
    "$f(0) = -1$. Notando que este será um ponto aberto, pois a função está definida apenas para valores maiores que zero.  \n",
    "$\\fbox{$(0, -1)$}$\n",
    "\n",
    "Com o eixo x, ou seja: $f(x) = 0$:   \n",
    "A raiz é:  \n",
    "$x = \\dfrac{1}{3}$  \n",
    "$\\fbox{$(\\dfrac{1}{3}, 0)$}$  \n",
    "\n",
    "Juntando essas informações, o gráfico fica, portanto:\n",
    "\n",
    "![Image of Yaktocat](https://drive.google.com/uc?id=0B2hurzTPk6MGSktPWWVFN0s2dTA)"
   ]
  },
  {
   "cell_type": "markdown",
   "metadata": {},
   "source": [
    "**Questão 3.** (2 pontos) Uma fábrica pode produzir estantes a um custo de R$\\$$ 80,00 a unidade.\n",
    "Os analistas da empresa estimam que se as estantes forem vendidas por $x$ reais a unidade, aproximadamente 150 - x unidades serão vendidas por mês.\n",
    "Expresse o lucro mensal do fabricante em função do preço de venda, x, desenhe o gráfico associado e estime o preço ótimo de venda."
   ]
  },
  {
   "cell_type": "markdown",
   "metadata": {},
   "source": [
    "**Questão 4.** (2 pontos) Determine todos os números $x$ reais que satisfazem a equação dada.\n",
    "\n",
    "(a) $5^x = e^4$  \n",
    "(b) $\\log_3 (2x + 1) = 2$  \n",
    "(c) $\\ln(x - 3) = \\ln20 - \\ln5$  \n",
    "(d) $e^{2x} - 7e^x + 12 = 0$  "
   ]
  },
  {
   "cell_type": "markdown",
   "metadata": {},
   "source": [
    "### **Solução**\n",
    "\n",
    "**(a)** $5^x = e^4$  \n",
    "\n",
    "Aplicando o logaritmo natural em ambos os lados da equação e usando as propriedades dos logarítmicos:  \n",
    "\n",
    "$\\ln 5^x = \\ln e^4$  \n",
    "$x\\ln 5 = 4$  \n",
    "$\\fbox{$x = \\dfrac{4}{\\ln 5}$}$\n",
    "\n",
    "**(b)** $\\log_3 (2x + 1) = 2$  \n",
    "\n",
    "Usando a definição de logaritmo, $\\log_a x = y$ é equivalente a $a^y = x$, logo:  \n",
    "\n",
    "$\\log_3 (2x + 1) = 2$ equivale a: $3^2 = 2x + 1$  \n",
    "\n",
    "$2x + 1 = 9$  \n",
    "$2x = 10$  \n",
    "$\\fbox{$x = 5$}$\n",
    "\n",
    "**(c)** $\\ln(x - 3) = \\ln20 - \\ln5$  \n",
    "\n",
    "Primeiramente, simplificamos os termos à direita da igualdade, usando as propriedades dos logarítmicos:  \n",
    "$\\ln20 - \\ln5 = \\ln\\left(\\dfrac{20}{5}\\right) = \\ln 4$  \n",
    "Para resolver, usamos outra propriedade logarítmica: se $\\ln x$ = $\\ln y$, então x = y, ou seja:  \n",
    "\n",
    "$\\ln(x - 3) = \\ln 4$  \n",
    "$x - 3 = 4$  \n",
    "$\\fbox{x = 7}$\n",
    "\n",
    "**(d)** $e^{2x} - 7e^x + 12 = 0$  \n",
    "\n",
    "Fazendo a substituição: $y = e^x$, temos:  \n",
    "\n",
    "$y^2 - 7y + 12 = 0$  \n",
    "\n",
    "As raízes desta equação são: $y = 3$ e $y = 4$. 'Desfazendo' a substituição:  \n",
    "\n",
    "$e^x = 3 \\rightarrow x = \\ln 3$  \n",
    "$e^x = 4 \\rightarrow x = \\ln 4 = \\ln 2^2 = 2\\ln 2$  \n",
    "\n",
    "$\\fbox{$x = \\ln 3$ e $x = 2\\ln 2$}$\n"
   ]
  },
  {
   "cell_type": "markdown",
   "metadata": {},
   "source": [
    "**Questão 5.** (2 pontos) Determine os limites indicados. Se o valor for infinito, indique se é $+\\infty$ ou $-\\infty$.\n",
    "\n",
    "(a) $\\lim\\limits_{x\\rightarrow 3} \\dfrac{3x^2 - 8}{x - 2}$  \n",
    "(b) $\\lim\\limits_{x\\rightarrow + \\infty} \\dfrac{7x^2 + 3}{2x^2 + 5x + 6}$  \n",
    "(c) $\\lim\\limits_{x\\rightarrow 0} (6 + \\dfrac{1}{x^2})$  \n",
    "(d) $\\lim\\limits_{x\\rightarrow 2} \\dfrac{x - 2}{x(x^2 - 4)}$  "
   ]
  },
  {
   "cell_type": "code",
   "execution_count": null,
   "metadata": {
    "collapsed": true
   },
   "outputs": [],
   "source": []
  }
 ],
 "metadata": {
  "kernelspec": {
   "display_name": "Python 3",
   "language": "python",
   "name": "python3"
  },
  "language_info": {
   "codemirror_mode": {
    "name": "ipython",
    "version": 3
   },
   "file_extension": ".py",
   "mimetype": "text/x-python",
   "name": "python",
   "nbconvert_exporter": "python",
   "pygments_lexer": "ipython3",
   "version": "3.5.1"
  }
 },
 "nbformat": 4,
 "nbformat_minor": 0
}
