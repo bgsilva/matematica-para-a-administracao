{
 "cells": [
  {
   "cell_type": "markdown",
   "metadata": {},
   "source": [
    "# Regras de derivação"
   ]
  },
  {
   "cell_type": "markdown",
   "metadata": {},
   "source": [
    "**Regra do produto**\n",
    "\n",
    "Se $P(x) = f(x)g(x)$, a derivada de $P(x)$ será:\n",
    "\n",
    "$P'(x) = f(x)g'(x) + g(x)f'(x)$\n",
    "\n",
    "**Regra do quociente**\n",
    "\n",
    "Se $Q(x) = \\dfrac{f(x)}{g(x)}$, a derivada de $Q(x)$ será:\n",
    "\n",
    "$Q'(x) = \\dfrac{g(x)f'(x) - f(x)g'(x)}{[g(x)]^2}$\n"
   ]
  },
  {
   "cell_type": "code",
   "execution_count": null,
   "metadata": {
    "collapsed": true
   },
   "outputs": [],
   "source": []
  }
 ],
 "metadata": {
  "kernelspec": {
   "display_name": "Python 3",
   "language": "python",
   "name": "python3"
  },
  "language_info": {
   "codemirror_mode": {
    "name": "ipython",
    "version": 3
   },
   "file_extension": ".py",
   "mimetype": "text/x-python",
   "name": "python",
   "nbconvert_exporter": "python",
   "pygments_lexer": "ipython3",
   "version": "3.5.1"
  }
 },
 "nbformat": 4,
 "nbformat_minor": 0
}
