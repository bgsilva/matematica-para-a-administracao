{
 "cells": [
  {
   "cell_type": "markdown",
   "metadata": {},
   "source": [
    "# MAC119 / UFRJ - Terceira Prova (13/07/16)\n",
    "### Turma A"
   ]
  },
  {
   "cell_type": "markdown",
   "metadata": {},
   "source": [
    "**Questão 1.** Quando o preço unitário de um produto é $p$ reais, o fabricante tem interesse em ofertar $x$ centenas de unidades, em que  \n",
    "\n",
    "$$3p^2 - x^2 = 12$$\n",
    "\n",
    "(a) (1 ponto) Qual o valor de $x$ se o preço unitário é $R\\$$ 4,00?\n",
    "\n",
    "(b) (1.5 ponto) Qual é a taxa de variação da oferta com o tempo se o preço unitário de $R\\$$ 4,00 está aumentando à taxa de 87 centavos por mês?"
   ]
  },
  {
   "cell_type": "markdown",
   "metadata": {},
   "source": [
    "### **Solução**\n",
    "\n",
    "(a) Para encontrar o valor de $x$, basta substituir o valor $p = 4$ na expressão dada. Onde encontramos:   \n",
    "$\\fbox{x = 6}$, ou seja, para o preço de $R\\$$ 4,00 o fabricante tem interesse em ofertar 600 unidades.\n",
    "\n",
    "(b) A taxa de variação da oferta com tempo é dada pela derivada $\\dfrac{dx}{dt}$, onde podemos obtê-la por derivação implícita ou através da regra da cadeia. Usando derivação implícita e derivando a expressão em relação ao tempo $t$:\n",
    "\n",
    "$3\\cdot2p\\dfrac{dp}{dt} - 2x\\dfrac{dx}{dt} = 0$, ou seja, $\\dfrac{dx}{dt} = \\dfrac{3p}{x}\\dfrac{dp}{dt}$.\n",
    "\n",
    "No enunciado é dado que a taxa de variação do preço está aumentando à taxa de 87 centavos por mês, ou seja, $\\dfrac{dp}{dt}$ = $R\\$$ 0.87 / mês.\n",
    "\n",
    "$\\fbox{$\\dfrac{dx}{dt}$ = 1,74}$, ou seja, a oferta estará variando à taxa de 174 unidades/mês para as condições dadas."
   ]
  },
  {
   "cell_type": "markdown",
   "metadata": {},
   "source": [
    "**Questão 2.** Um fabricante estima que $x$ unidades de determinado produto serão vendidas se o preço unitário for $p(x) = 112 - x\\ln{(\\sqrt{x})}$ centenas de reais.\n",
    "\n",
    "(a) (1 ponto) Determine as funções receita e receita marginal.\n",
    "\n",
    "(b) (1.5 ponto) Estime a receita obtida com a produção da 21ª unidade.\n",
    "Qual é a receita real obtida com a produção da 21ª unidade?\n"
   ]
  },
  {
   "cell_type": "markdown",
   "metadata": {},
   "source": [
    "### **Solução**\n",
    "\n",
    "(a) $\\fbox{Função receita: $R(x) = x\\,p(x) = 112x - x^2\\ln{\\sqrt{x}} = 112x - \\dfrac{x^2}{2}\\ln{x}$}$  \n",
    "$\\fbox{Função receita marginal: $R'(x) = 112 - x\\ln{x} - \\dfrac{x}{2}$}$\n",
    "\n",
    "(b) $\\fbox{Receita estimada: $R'(20) = 42,09$, ou seja, $R\\$$ 4209}$  \n",
    "$\\fbox{Receita real: $R(21) - R(20) = 39,829$, ou seja, $R\\$$ 3982,93}$"
   ]
  },
  {
   "cell_type": "markdown",
   "metadata": {},
   "source": [
    "**Questão 3.** Um estudo demográfico realizado em certa cidade indica que $P(r)$ centenas de pessoas moram a $r$ quilômetros do centro da cidade, em que\n",
    "\n",
    "$$P(r) = \\dfrac{15r + 5}{r^2 + r + 2}$$\n",
    "onde $r \\geq 0$.\n",
    "\n",
    "(a) (0.5 ponto) Qual é a população no centro da cidade?\n",
    "\n",
    "(b) (1.0 ponto) Para que valores de $r$ a função $P(r)$ é crescente? Para que valores é decrescente?\n",
    "\n",
    "(c) (1.0 ponto) A que distância do centro da cidade a população é máxima? Qual é essa população máxima?"
   ]
  },
  {
   "cell_type": "markdown",
   "metadata": {},
   "source": [
    "### **Solução**\n",
    "\n",
    "(a) A população no centro corresponde a $P(0)$:\n",
    "\n",
    "$\\fbox{250 pessoas}$\n",
    "\n",
    "(b) $\\dfrac{dP}{dr} = \\dfrac{-15r^2 - 10r + 25}{(r^2 + r + 2)^2} = \\dfrac{-15(r - 1)(r + 5/3)}{(r^2 + r + 2)^2}$  \n",
    "$\\fbox{A função é crescente para $0 < x < 1$ e decrescente para $x > 1$ (em $x = 1$ temos um máximo local)}$\n",
    "\n",
    "(c) $\\fbox{A população é máxima a 1 km do centro da cidade, correspondendo a 500 pessoas}$"
   ]
  },
  {
   "cell_type": "markdown",
   "metadata": {},
   "source": [
    "**Questão 4.** Considere a função a $f(x) = x^4 + 4x^3 + 4x^2$:\n",
    "\n",
    "(a) (0.5 ponto) Determine o domínio de $f(x)$.\n",
    "\n",
    "(b) (0.5 ponto) Encontre as assíntotas, caso existam.\n",
    "\n",
    "(c) (0.5 ponto) Determine os intervalos onde $f(x)$ é crescente e onde é decrescente e os pontos de máximo e mínimo.\n",
    "\n",
    "(d) (0.5 ponto) Determine os intervalos onde $f(x)$ é côncava para baixo e onde é côncava para cima e os pontos de inflexão.\n",
    "\n",
    "(e) (0.5 ponto) Usando as informações dos itens acima, esboce o gráfico de $f(x)$."
   ]
  },
  {
   "cell_type": "markdown",
   "metadata": {},
   "source": [
    "### **Solução**\n",
    "\n",
    "(a) $\\fbox{Domínio $\\equiv$ $\\{x \\in \\mathbb{R}\\}$}$\n",
    "\n",
    "(b) $\\fbox{Não existem assíntotas}$\n",
    "\n",
    "(c) $f'(x) = 4x^3 + 12x^2 + 8x = 4x\\,(x^2 + 3x + 2) = 4x\\,(x + 1)(x + 2)$  \n",
    "Números críticos: $x = -2$, $x = -1$ e $x = 0$, correspondendo, respectivamente, aos pontos (-2, 0), (-1, 1) e (0, 0)\n",
    "\n",
    "(d) $f''(x) = 12x^2 + 24x + 8x = 4x\\,(3x^2 + 6x + 2)$  \n",
    "$f''(x) = 0$ para: $x = -1 - \\dfrac{1}{\\sqrt{3}} \\approx -1,58$ e $x = \\dfrac{1}{\\sqrt{3}} -1 \\approx -0,42$, correspondendo, respectivamente, aos pontos (-1.58, 0.44) e (-0.42, 0.44)\n",
    "\n",
    "(e) Gráfico da função:"
   ]
  },
  {
   "cell_type": "markdown",
   "metadata": {},
   "source": [
    "### FIM"
   ]
  }
 ],
 "metadata": {
  "kernelspec": {
   "display_name": "Python 3",
   "language": "python",
   "name": "python3"
  },
  "language_info": {
   "codemirror_mode": {
    "name": "ipython",
    "version": 3
   },
   "file_extension": ".py",
   "mimetype": "text/x-python",
   "name": "python",
   "nbconvert_exporter": "python",
   "pygments_lexer": "ipython3",
   "version": "3.5.1"
  }
 },
 "nbformat": 4,
 "nbformat_minor": 0
}
